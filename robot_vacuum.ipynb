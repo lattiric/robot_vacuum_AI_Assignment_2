{
 "cells": [
  {
   "cell_type": "markdown",
   "metadata": {},
   "source": [
    "### *NOTE*\n",
    "- this is a resubmission of my original project due to the fact that my code takes such a long time to run that I wasn't able to submit my project in time for the first deadline, and run the portion of the code that would give the graph legitimate data. I am resubmitting it now that I finally have time, and as you can see here, none of my code from the original submission has changed (apart from one global variable included in the graph section). I am aware that this is way past the deadline, but I was hoping that you would be willing to take this submission as a candidate for an on-time submission of the project, as the only reason I was unable to submit one originally is the run time of my code. Either way, thank you for your time."
   ]
  },
  {
   "cell_type": "markdown",
   "metadata": {
    "id": "PyOAq2XZ_soI"
   },
   "source": [
    "# Intelligent Agents: Reflex-Based Agents for the Vacuum-cleaner World\n",
    "\n",
    "Student Name: Rick Lattin\n",
    "\n",
    "## Instructions\n",
    "\n",
    "Total Points: Undergrads 100 / Graduate students 110\n",
    "\n",
    "Complete this notebook. Use the provided notebook cells and insert additional code and markdown cells as needed. Submit the completely rendered notebook as a PDF file.\n",
    "\n",
    "## Introduction\n",
    "\n",
    "In this assignment you will implement a simulator environment for an automatic vacuum cleaner robot, a set of different reflex-based agent programs, and perform a comparison study for cleaning a single room. Focus on the __cleaning phase__ which starts when the robot is activated and ends when the last dirty square in the room has been cleaned. Someone else will take care of the agent program needed to navigate back to the charging station after the room is clean.\n",
    "\n",
    "## PEAS description of the cleaning phase\n",
    "\n",
    "__Performance Measure:__ Each action costs 1 energy unit. The performance is measured as the sum of the energy units used to clean the whole room.\n",
    "\n",
    "__Environment:__ A room with $n \\times n$ squares where $n = 5$. Dirt is randomly placed on each square with probability $p = 0.2$. For simplicity, you can assume that the agent knows the size and the layout of the room (i.e., it knows $n$). To start, the agent is placed on a random square.\n",
    "\n",
    "__Actuators:__ The agent can clean the current square (action `suck`) or move to an adjacent square by going `north`, `east`, `south`, or `west`.\n",
    "\n",
    "__Sensors:__ Four bumper sensors, one for north, east, south, and west; a dirt sensor reporting dirt in the current square.  \n",
    "\n",
    "\n",
    "## The agent program for a simple randomized agent\n",
    "\n",
    "The agent program is a function that gets sensor information (the current percepts) as the arguments. The arguments are:\n",
    "\n",
    "* A dictionary with boolean entries for the for bumper sensors `north`, `east`, `west`, `south`. E.g., if the agent is on the north-west corner, `bumpers` will be `{\"north\" : True, \"east\" : False, \"south\" : False, \"west\" : True}`.\n",
    "* The dirt sensor produces a boolean.\n",
    "\n",
    "The agent returns the chosen action as a string.\n",
    "\n",
    "Here is an example implementation for the agent program of a simple randomized agent:  "
   ]
  },
  {
   "cell_type": "code",
   "execution_count": 1,
   "metadata": {
    "id": "Eh0T4U-4_soO"
   },
   "outputs": [],
   "source": [
    "import numpy as np\n",
    "\n",
    "actions = [\"north\", \"east\", \"west\", \"south\", \"suck\"]\n",
    "\n",
    "def simple_randomized_agent(bumpers, dirty):\n",
    "    return np.random.choice(actions)"
   ]
  },
  {
   "cell_type": "code",
   "execution_count": 2,
   "metadata": {
    "id": "duEyNuqn_soR",
    "outputId": "3646921b-8426-45c1-85d2-4f532068374d"
   },
   "outputs": [
    {
     "data": {
      "text/plain": [
       "'west'"
      ]
     },
     "execution_count": 2,
     "metadata": {},
     "output_type": "execute_result"
    }
   ],
   "source": [
    "# define percepts (current location is NW corner and it is dirty)\n",
    "bumpers = {\"north\" : True, \"east\" : False, \"south\" : False, \"west\" : True}\n",
    "dirty = True\n",
    "\n",
    "# call agent program function with percepts and it returns an action\n",
    "simple_randomized_agent(bumpers, dirty)"
   ]
  },
  {
   "cell_type": "markdown",
   "metadata": {
    "id": "C_m6q9n1_soS"
   },
   "source": [
    "__Note:__ This is not a rational intelligent agent. It ignores its sensors and may bump into a wall repeatedly or not clean a dirty square. You will be asked to implement rational agents below."
   ]
  },
  {
   "cell_type": "markdown",
   "metadata": {
    "id": "_mmvtr0H_soT"
   },
   "source": [
    "## Simple environment example\n",
    "\n",
    "We implement a simple simulation environment that supplies the agent with its percepts.\n",
    "The simple environment is infinite in size (bumpers are always `False`) and every square is always dirty, even if the agent cleans it. The environment function returns a performance measure which is here the number of cleaned squares (since the room is infinite and all squares are constantly dirty, the agent can never clean the whole room as required in the PEAS description above). The energy budget of the agent is specified as `max_steps`."
   ]
  },
  {
   "cell_type": "code",
   "execution_count": 3,
   "metadata": {
    "id": "J8yiqk8G_soT"
   },
   "outputs": [],
   "source": [
    "def simple_environment(agent, max_steps, verbose = True):\n",
    "    num_cleaned = 0\n",
    "\n",
    "    for i in range(max_steps):\n",
    "        dirty = True\n",
    "        bumpers = {\"north\" : False, \"south\" : False, \"west\" : False, \"east\" : False}\n",
    "\n",
    "        action = agent(bumpers, dirty)\n",
    "        if (verbose): print(\"step\", i , \"- action:\", action)\n",
    "\n",
    "        if (action == \"suck\"):\n",
    "            num_cleaned = num_cleaned + 1\n",
    "\n",
    "    return num_cleaned\n",
    "\n"
   ]
  },
  {
   "cell_type": "markdown",
   "metadata": {
    "id": "CDzybWyo_soU"
   },
   "source": [
    "Do one simulation run with a simple randomized agent that has enough energy for 20 steps."
   ]
  },
  {
   "cell_type": "code",
   "execution_count": 4,
   "metadata": {
    "id": "dTNlu542_soU",
    "outputId": "987740fe-e409-44af-8f46-51f3ced6123b"
   },
   "outputs": [
    {
     "name": "stdout",
     "output_type": "stream",
     "text": [
      "step 0 - action: north\n",
      "step 1 - action: north\n",
      "step 2 - action: south\n",
      "step 3 - action: north\n",
      "step 4 - action: suck\n",
      "step 5 - action: north\n",
      "step 6 - action: suck\n",
      "step 7 - action: suck\n",
      "step 8 - action: west\n",
      "step 9 - action: north\n",
      "step 10 - action: south\n",
      "step 11 - action: north\n",
      "step 12 - action: north\n",
      "step 13 - action: east\n",
      "step 14 - action: suck\n",
      "step 15 - action: north\n",
      "step 16 - action: north\n",
      "step 17 - action: suck\n",
      "step 18 - action: south\n",
      "step 19 - action: south\n"
     ]
    },
    {
     "data": {
      "text/plain": [
       "5"
      ]
     },
     "execution_count": 4,
     "metadata": {},
     "output_type": "execute_result"
    }
   ],
   "source": [
    "simple_environment(simple_randomized_agent, max_steps = 20)"
   ]
  },
  {
   "cell_type": "markdown",
   "metadata": {
    "id": "cWPgCTva_soV"
   },
   "source": [
    "# Tasks\n",
    "\n",
    "## General [10 Points]\n",
    "\n",
    "1. Make sure that you use the latest version of this notebook. Sync your forked repository and pull the latest revision.\n",
    "2. Your implementation can use libraries like math, numpy, scipy, but not libraries that implement inteligent agents or complete search algorithms. Try to keep the code simple! In this course, we want to learn about the algorithms and we often do not need to use object-oriented design.\n",
    "3. You notebook needs to be formated professionally.\n",
    "    - Add additional markdown blocks for your description, comments in the code, add tables and use mathplotlib to produce charts where appropriate\n",
    "    - Do not show debugging output or include an excessive amount of output.\n",
    "    - Check that your PDF file is readable. For example, long lines are cut off in the PDF file. You don't have control over page breaks, so do not worry about these.\n",
    "4. Document your code. Add a short discussion of how your implementation works and your design choices.\n",
    "\n",
    "\n",
    "## Task 1: Implement a simulation environment [20 Points]\n",
    "\n",
    "The simple environment above is not very realistic. Your environment simulator needs to follow the PEAS description from above. It needs to:\n",
    "\n",
    "* Initialize the environment by storing the state of each square (clean/dirty) and making some dirty. ([Help with random numbers and arrays in Python](https://github.com/mhahsler/CS7320-AI/blob/master/HOWTOs/random_numbers_and_arrays.ipynb))\n",
    "* Keep track of the agent's position.\n",
    "* Call the agent function repeatedly and provide the agent function with the sensor inputs.  \n",
    "* React to the agent's actions. E.g, by removing dirt from a square or moving the agent around unless there is a wall in the way.\n",
    "* Keep track of the performance measure. That is, track the agent's actions until all dirty squares are clean and count the number of actions it takes the agent to complete the task.\n",
    "\n",
    "The easiest implementation for the environment is to hold an 2-dimensional array to represent if squares are clean or dirty and to call the agent function in a loop until all squares are clean or a predefined number of steps have been reached (i.e., the robot runs out of energy).\n",
    "\n",
    "The simulation environment should be a function like the `simple_environment()` and needs to work with the simple randomized agent program from above. **Use the same environmnt for all your agent implementations in the tasks below.**\n",
    "\n",
    "*Note on debugging:* Debugging is difficult. Make sure your environment prints enough information when you use `verbose = True`. Also, implementing a function that the environment can use to displays the room with dirt and the current position of the robot at every step is very useful.  "
   ]
  },
  {
   "cell_type": "markdown",
   "metadata": {},
   "source": [
    "##### The environment begins by creating a square grid the the size of the size varibale passed in, and then filling 20% of those squares with dirt that is to be cleaned and filling the num_dirty variable with the number of dirtied squares. The clean squares are denoted with 0's and the dirty ones 1's. It then assigns a random starting location to the agent calling a loop that calls the agent, which has been passed in as a variable, an indefinite amount of times. The environment updates the bumper and dirty information before calling the agent, and then depending on the return of the agent, the environment will either move the agent north, south, east, or west, while also possibly performing the suck action. If the square the agent is currently, which is information saved by the environment, and the suck action is called, then the 1 is turned to a 0 on the grid. For each square cleaned the num_dirty variable is decremented and for each call of the agent, the num_steps variable is incremented. The environment finishes running when the max steps is reached or if the num_dirty variable reaches 0."
   ]
  },
  {
   "cell_type": "code",
   "execution_count": 5,
   "metadata": {
    "id": "Smy-6KEu_soV"
   },
   "outputs": [],
   "source": [
    "# Your code and description goes here\n",
    "\n",
    "reached_corner = False \n",
    "last_move = \"north\"\n",
    "\n",
    "def vacuum_environment(agent, max_steps, size, verbose = True):\n",
    "    num_steps = 0\n",
    "    num_dirty = 0\n",
    "    agent_start_location = (0,0)\n",
    "    agent_location = (agent_start_location[0], agent_start_location[1])\n",
    "    reached_corner = False\n",
    "\n",
    "    #create the environment\n",
    "    grid = np.zeros((size,size))\n",
    "    for i in range(size):\n",
    "        for j in range(size):\n",
    "            if np.random.random() < 0.2:\n",
    "                grid[i,j] = 1\n",
    "                num_dirty += 1\n",
    "    if verbose == True:\n",
    "        print(grid)\n",
    "    \n",
    "    #make start point for agent\n",
    "    x_start = np.random.randint(0,size)\n",
    "    y_start = np.random.randint(0,size)\n",
    "    agent_start_location = (x_start,y_start)\n",
    "    agent_location = agent_start_location\n",
    "\n",
    "\n",
    "    for i in range(max_steps):\n",
    "\n",
    "        #send agent drity square information\n",
    "        if grid[agent_location[0], agent_location[1]] == 1:\n",
    "            dirty = True\n",
    "        else:\n",
    "            dirty = False\n",
    "        \n",
    "        #send agent bumpers information\n",
    "        bumpers = {\"north\" : False, \"south\" : False, \"west\" : False, \"east\" : False}\n",
    "        if verbose == True:\n",
    "            print(agent_location)\n",
    "        if agent_location[0] == 0:\n",
    "            bumpers[\"north\"] = True\n",
    "        if agent_location[0] == size-1:\n",
    "            bumpers[\"south\"] = True\n",
    "        if agent_location[1] == 0:\n",
    "            bumpers[\"west\"] = True\n",
    "        if agent_location[1] == size-1:\n",
    "            bumpers[\"east\"] = True\n",
    "\n",
    "        #call agent action\n",
    "        action = agent(bumpers, dirty)\n",
    "        if (verbose): print(\"step\", i , \"- action:\", action)\n",
    "\n",
    "        #making sure simple random doesn't break\n",
    "        if action == \"north\" and bumpers[\"north\"] == True:\n",
    "            action = \"none\"\n",
    "            num_steps += 1\n",
    "        if action == \"south\" and bumpers[\"south\"] == True:\n",
    "            action = \"none\"\n",
    "            num_steps += 1\n",
    "        if action == \"east\" and bumpers[\"east\"] == True:\n",
    "            action = \"none\"\n",
    "            num_steps += 1\n",
    "        if action == \"west\" and bumpers[\"west\"] == True:\n",
    "            action = \"none\"\n",
    "            num_steps += 1\n",
    "\n",
    "\n",
    "        #counting the steps\n",
    "        if (action == \"north\"):\n",
    "            agent_location = (agent_location[0]-1,agent_location[1])\n",
    "            num_steps += 1\n",
    "        if (action == \"east\"):\n",
    "            agent_location = (agent_location[0],agent_location[1]+1)\n",
    "            num_steps += 1\n",
    "        if (action == \"west\"):\n",
    "            agent_location = (agent_location[0],agent_location[1]-1)\n",
    "            num_steps += 1\n",
    "        if (action == \"south\"):\n",
    "            agent_location = (agent_location[0]+1,agent_location[1])\n",
    "            num_steps += 1\n",
    "\n",
    "        if (action == \"suck\"):\n",
    "            if grid[agent_location[0], agent_location[1]] == 1:\n",
    "                num_dirty = num_dirty - 1\n",
    "            num_steps += 1 \n",
    "            grid[agent_location[0], agent_location[1]] = 0\n",
    "\n",
    "        if num_dirty == 0:\n",
    "            break\n",
    "\n",
    "    if verbose == True:\n",
    "        print(grid)\n",
    "    return num_steps"
   ]
  },
  {
   "cell_type": "code",
   "execution_count": 6,
   "metadata": {},
   "outputs": [
    {
     "data": {
      "text/plain": [
       "1013304"
      ]
     },
     "execution_count": 6,
     "metadata": {},
     "output_type": "execute_result"
    }
   ],
   "source": [
    "vacuum_environment(simple_randomized_agent, max_steps = 10000000, size = 100, verbose=False)"
   ]
  },
  {
   "cell_type": "markdown",
   "metadata": {
    "id": "vulQTni9_soW"
   },
   "source": [
    "## Task 2:  Implement a simple reflex agent [10 Points]\n",
    "\n",
    "The simple reflex agent randomly walks around but reacts to the bumper sensor by not bumping into the wall and to dirt with sucking. Implement the agent program as a function.\n",
    "\n",
    "_Note:_ Agents cannot directly use variable in the environment. They only gets the percepts as the arguments to the agent function."
   ]
  },
  {
   "cell_type": "markdown",
   "metadata": {},
   "source": [
    "##### This agent functionally works the same way as the simple randomized agent, with the only differences being that if the square the agent is on is seen to be dirty then the agent will automatically return the \"suck\" action and will refuse to return an action that is physically impossible based off of the bumpers. This streamlines the agent's cleaning process by allowing the agent to simply find the location of a dirty space in order to clean it. Furthermore, it prevents the agent from taking a move to attempt to move into a wall, which the simple randomized agent had the capacity to do."
   ]
  },
  {
   "cell_type": "code",
   "execution_count": 7,
   "metadata": {
    "id": "i7w06T3S_soW"
   },
   "outputs": [],
   "source": [
    "# Your code and description goes here\n",
    "import numpy as np\n",
    "\n",
    "actions = [\"north\", \"east\", \"west\", \"south\", \"suck\"]\n",
    "\n",
    "def simple_reflex_agent(bumpers, dirty):\n",
    "    #if dirty then clean\n",
    "    i = 1\n",
    "    if dirty == True:\n",
    "        return \"suck\"\n",
    "    else:\n",
    "        #if not dirty then move in a possible direction\n",
    "        while i == 1:\n",
    "            action = np.random.choice(actions)\n",
    "            if (action == \"suck\") or (bumpers[action] == True):\n",
    "                i = 1\n",
    "            else:\n",
    "                i = 0\n",
    "        return action"
   ]
  },
  {
   "cell_type": "code",
   "execution_count": 8,
   "metadata": {},
   "outputs": [
    {
     "data": {
      "text/plain": [
       "164"
      ]
     },
     "execution_count": 8,
     "metadata": {},
     "output_type": "execute_result"
    }
   ],
   "source": [
    "vacuum_environment(simple_reflex_agent, max_steps = 1000, size = 5, verbose=False)"
   ]
  },
  {
   "cell_type": "markdown",
   "metadata": {
    "id": "BntpNDSM_soX"
   },
   "source": [
    "## Task 3: Implement a model-based reflex agent [20 Points]\n",
    "\n",
    "Model-based agents use a state to keep track of what they have done and perceived so far. Your agent needs to find out where it is located and then keep track of its current location. You also need a set of rules based on the state and the percepts to make sure that the agent will clean the whole room. For example, the agent can move to a corner to determine its location and then it can navigate through the whole room and clean dirty squares.\n",
    "\n",
    "Describe how you define the __agent state__ and how your agent works before implementing it. ([Help with implementing state information on Python](https://github.com/mhahsler/CS7320-AI/blob/master/HOWTOs/store_agent_state_information.ipynb))"
   ]
  },
  {
   "cell_type": "code",
   "execution_count": 9,
   "metadata": {
    "id": "LDm4JIMH_soX"
   },
   "outputs": [],
   "source": [
    "# Your short description of the state and your implementation goes here"
   ]
  },
  {
   "cell_type": "markdown",
   "metadata": {},
   "source": [
    "##### The state that the agent retains is comprised of two data members. The first is a boolean value detailing whether the agent has reached the top left corner of the environment, as that is a necessary starting point of this implementation. The second is a string that represents the direction of the last move taken by the agent. The agent uses these two members in it's implemetation to first move itself to the top left corner of the environment, using the bumpers to find a location where both the \"north\" and \"west\" bumpers were triggered, which only exists in the top left corner. From there the reached_corner boolean is turned to \"True\" and the agent begins it's snaking functionality to hit every square in the environment. The agent first checks if the current square it is located in is dirty and cleans it axcordingly, then it continues to move in the direction it was previously moving by using the last_move string variable. The agent starts moving east then uses the bumpers to determine when it should turn and when it should end the snaking process as it has reached the end of the environment."
   ]
  },
  {
   "cell_type": "code",
   "execution_count": 10,
   "metadata": {
    "id": "TN9Efq4t_soY"
   },
   "outputs": [],
   "source": [
    "# Your code goes here\n",
    "import numpy as np\n",
    "\n",
    "actions = [\"north\", \"east\", \"west\", \"south\", \"suck\"]\n",
    "reached_corner = False \n",
    "last_move = \"north\"\n",
    "\n",
    "def model_based_reflex_agent(bumpers, dirty):\n",
    "\n",
    "    #setting to top left corner\n",
    "    global reached_corner\n",
    "    global last_move\n",
    "    if reached_corner == False:\n",
    "        if bumpers[\"north\"] == True and bumpers[\"west\"] == True:\n",
    "            reached_corner = True\n",
    "        if bumpers[\"north\"] == False:\n",
    "            return \"north\"\n",
    "        if bumpers[\"west\"] == False:\n",
    "            return \"west\"\n",
    "\n",
    "    #if dirty then clean\n",
    "    if dirty == True:\n",
    "        return \"suck\"\n",
    "    \n",
    "    #starting move\n",
    "    if bumpers[\"west\"] == True and bumpers[\"north\"] == True:\n",
    "        last_move = \"east\"\n",
    "        return \"east\"\n",
    "    \n",
    "    #general movement\n",
    "    if bumpers[\"west\"] == True and last_move != \"south\":\n",
    "        last_move = \"south\"\n",
    "        return \"south\"\n",
    "    if bumpers[\"west\"] == True and last_move == \"south\":\n",
    "        last_move = \"east\"\n",
    "        return \"east\"\n",
    "    if bumpers[\"east\"] == True and last_move != \"south\":\n",
    "        last_move = \"south\"\n",
    "        return \"south\"\n",
    "    if bumpers[\"east\"] == True and last_move == \"south\":\n",
    "        last_move = \"west\"\n",
    "        return \"west\"\n",
    "    else:\n",
    "        return last_move"
   ]
  },
  {
   "cell_type": "code",
   "execution_count": 11,
   "metadata": {},
   "outputs": [
    {
     "data": {
      "text/plain": [
       "35"
      ]
     },
     "execution_count": 11,
     "metadata": {},
     "output_type": "execute_result"
    }
   ],
   "source": [
    "reached_corner = False \n",
    "last_move = \"north\"\n",
    "\n",
    "vacuum_environment(model_based_reflex_agent, max_steps = 1000, size = 5, verbose=False)"
   ]
  },
  {
   "cell_type": "markdown",
   "metadata": {
    "id": "sL3JzC0U_soZ"
   },
   "source": [
    "## Task 4: Simulation study [30 Points]\n",
    "\n",
    "Compare the performance (the performance measure is defined in the PEAS description above) of the agents using  environments of different size. E.g., $5 \\times 5$, $10 \\times 10$ and\n",
    "$100 \\times 100$. Use 100 random runs for each. Present the results using tables and graphs. Discuss the differences between the agents.\n",
    "([Help with charts and tables in Python](https://github.com/mhahsler/CS7320-AI/blob/master/HOWTOs/charts_and_tables.ipynb))"
   ]
  },
  {
   "cell_type": "code",
   "execution_count": 36,
   "metadata": {
    "id": "NI4vM-RH_soa"
   },
   "outputs": [
    {
     "data": {
      "text/html": [
       "<div>\n",
       "<style scoped>\n",
       "    .dataframe tbody tr th:only-of-type {\n",
       "        vertical-align: middle;\n",
       "    }\n",
       "\n",
       "    .dataframe tbody tr th {\n",
       "        vertical-align: top;\n",
       "    }\n",
       "\n",
       "    .dataframe thead th {\n",
       "        text-align: right;\n",
       "    }\n",
       "</style>\n",
       "<table border=\"1\" class=\"dataframe\">\n",
       "  <thead>\n",
       "    <tr style=\"text-align: right;\">\n",
       "      <th></th>\n",
       "      <th>Size</th>\n",
       "      <th>Simple Randomized Agent</th>\n",
       "      <th>Simple Reflex Agent</th>\n",
       "      <th>Model Based Reflex Agent</th>\n",
       "    </tr>\n",
       "  </thead>\n",
       "  <tbody>\n",
       "    <tr>\n",
       "      <th>0</th>\n",
       "      <td>5x5</td>\n",
       "      <td>432.69</td>\n",
       "      <td>101.40</td>\n",
       "      <td>28.35</td>\n",
       "    </tr>\n",
       "    <tr>\n",
       "      <th>1</th>\n",
       "      <td>10x10</td>\n",
       "      <td>2935.22</td>\n",
       "      <td>869.22</td>\n",
       "      <td>124.30</td>\n",
       "    </tr>\n",
       "    <tr>\n",
       "      <th>2</th>\n",
       "      <td>100x100</td>\n",
       "      <td>830867.55</td>\n",
       "      <td>337124.63</td>\n",
       "      <td>12093.64</td>\n",
       "    </tr>\n",
       "  </tbody>\n",
       "</table>\n",
       "</div>"
      ],
      "text/plain": [
       "      Size  Simple Randomized Agent  Simple Reflex Agent  \\\n",
       "0      5x5                   432.69               101.40   \n",
       "1    10x10                  2935.22               869.22   \n",
       "2  100x100                830867.55            337124.63   \n",
       "\n",
       "   Model Based Reflex Agent  \n",
       "0                     28.35  \n",
       "1                    124.30  \n",
       "2                  12093.64  "
      ]
     },
     "execution_count": 36,
     "metadata": {},
     "output_type": "execute_result"
    }
   ],
   "source": [
    "# Your code goes here\n",
    "import pandas as pd\n",
    "import numpy as np\n",
    "all_size = [5, 10, 100]\n",
    "myDF = pd.DataFrame({})\n",
    "\n",
    "# making table\n",
    "df = pd.DataFrame({\n",
    "    \"Size\": [\"5x5\", \"10x10\", \"100x100\"],\n",
    "    \"Simple Randomized Agent\": np.zeros(3),\n",
    "    \"Simple Reflex Agent\": np.zeros(3),\n",
    "    \"Model Based Reflex Agent\": np.zeros(3)\n",
    "})\n",
    "\n",
    "# testing for each size\n",
    "#for one_size in all_size:\n",
    "for one_size in all_size:\n",
    "    simple_randomized_data = []\n",
    "    simple_reflex_data = []\n",
    "    model_based_reflex_data = []\n",
    "    \n",
    "    for i in range(100):\n",
    "        simple_randomized_data.append(vacuum_environment(simple_randomized_agent, max_steps = 10000000, size = one_size, verbose = False))\n",
    "        simple_reflex_data.append(vacuum_environment(simple_reflex_agent, max_steps = 1000000, size = one_size, verbose = False))\n",
    "\n",
    "        reached_corner = False \n",
    "        last_move = \"north\" \n",
    "        model_based_reflex_data.append(vacuum_environment(model_based_reflex_agent, max_steps = 100000, size = one_size, verbose = False))\n",
    "\n",
    "    # adding to table\n",
    "    df.loc[df[\"Size\"] == str(one_size)+\"x\"+str(one_size), \"Simple Randomized Agent\"] = np.mean(simple_randomized_data)\n",
    "    df.loc[df[\"Size\"] == str(one_size)+\"x\"+str(one_size), \"Simple Reflex Agent\"] = np.mean(simple_reflex_data)\n",
    "    df.loc[df[\"Size\"] == str(one_size)+\"x\"+str(one_size), \"Model Based Reflex Agent\"] = np.mean(model_based_reflex_data)\n",
    "\n",
    "myDF = df\n",
    "df"
   ]
  },
  {
   "cell_type": "markdown",
   "metadata": {
    "id": "RCluPvy9_soa"
   },
   "source": [
    "Fill out the following table with the average performance measure for 100 random runs (you may also create this table with code):\n",
    "\n",
    "| Size     | Randomized Agent | Simple Reflex Agent | Model-based Reflex Agent |\n",
    "|----------|------------------|---------------------|--------------------------|\n",
    "| 5x5     | | | |\n",
    "| 10x10   | | | |\n",
    "| 100x100 | | | |\n",
    "\n",
    "Add charts to compare the performance of the different agents."
   ]
  },
  {
   "cell_type": "code",
   "execution_count": 13,
   "metadata": {
    "id": "b5z5JjRO_sob"
   },
   "outputs": [],
   "source": [
    "# Your graphs and discussion of the results goes here"
   ]
  },
  {
   "cell_type": "markdown",
   "metadata": {},
   "source": [
    "##### The three agents were compared by running each one 100 times each, for the 5x5 environment, the 10x10 environment and the 100x100 environment, with the only variable changing between each of the 100 runs being the size of the max steps assigned to each. The modal based reflex agent was given a max steps of 100,000, as it would take 10,000 steps alone to check every space on the 100x100 environment, so it was decided to multiply by 10 for that to accound for the other operations it would have to complete. The simple reflex based agent was give a max steps of 1,000,000 as it was 10 times more than the modal based agent and the simple randomized agent was given 10,000,000 as it was 10 times the simle reflex agent.\n",
    "\n"
   ]
  },
  {
   "cell_type": "code",
   "execution_count": 37,
   "metadata": {},
   "outputs": [
    {
     "data": {
      "image/png": "[encoded data removed]",
      "text/plain": [
       "<Figure size 640x480 with 1 Axes>"
      ]
     },
     "metadata": {},
     "output_type": "display_data"
    },
    {
     "data": {
      "text/html": [
       "<div>\n",
       "<style scoped>\n",
       "    .dataframe tbody tr th:only-of-type {\n",
       "        vertical-align: middle;\n",
       "    }\n",
       "\n",
       "    .dataframe tbody tr th {\n",
       "        vertical-align: top;\n",
       "    }\n",
       "\n",
       "    .dataframe thead th {\n",
       "        text-align: right;\n",
       "    }\n",
       "</style>\n",
       "<table border=\"1\" class=\"dataframe\">\n",
       "  <thead>\n",
       "    <tr style=\"text-align: right;\">\n",
       "      <th></th>\n",
       "      <th>Size</th>\n",
       "      <th>Simple Randomized Agent</th>\n",
       "      <th>Simple Reflex Agent</th>\n",
       "      <th>Model Based Reflex Agent</th>\n",
       "    </tr>\n",
       "  </thead>\n",
       "  <tbody>\n",
       "    <tr>\n",
       "      <th>0</th>\n",
       "      <td>5x5</td>\n",
       "      <td>432.69</td>\n",
       "      <td>101.40</td>\n",
       "      <td>28.35</td>\n",
       "    </tr>\n",
       "    <tr>\n",
       "      <th>1</th>\n",
       "      <td>10x10</td>\n",
       "      <td>2935.22</td>\n",
       "      <td>869.22</td>\n",
       "      <td>124.30</td>\n",
       "    </tr>\n",
       "    <tr>\n",
       "      <th>2</th>\n",
       "      <td>100x100</td>\n",
       "      <td>830867.55</td>\n",
       "      <td>337124.63</td>\n",
       "      <td>12093.64</td>\n",
       "    </tr>\n",
       "  </tbody>\n",
       "</table>\n",
       "</div>"
      ],
      "text/plain": [
       "      Size  Simple Randomized Agent  Simple Reflex Agent  \\\n",
       "0      5x5                   432.69               101.40   \n",
       "1    10x10                  2935.22               869.22   \n",
       "2  100x100                830867.55            337124.63   \n",
       "\n",
       "   Model Based Reflex Agent  \n",
       "0                     28.35  \n",
       "1                    124.30  \n",
       "2                  12093.64  "
      ]
     },
     "execution_count": 37,
     "metadata": {},
     "output_type": "execute_result"
    }
   ],
   "source": [
    "import matplotlib.pyplot as plt\n",
    "plt.plot(myDF[\"Size\"], myDF[\"Simple Randomized Agent\"], label = \"Simple Randomized Agent\")\n",
    "plt.plot(myDF[\"Size\"], myDF[\"Simple Reflex Agent\"], label = \"Simple Reflex Agent\")\n",
    "plt.plot(myDF[\"Size\"], myDF[\"Model Based Reflex Agent\"], label = \"Model Based Reflex Agent\")\n",
    "plt.xlabel(\"Environment Dimensions\")\n",
    "plt.ylabel(\"Performance of the agents\")\n",
    "plt.legend()\n",
    "plt.show()\n",
    "\n",
    "myDF"
   ]
  },
  {
   "cell_type": "markdown",
   "metadata": {},
   "source": [
    "##### This graph displays the relationship between each model and the time it took each to run based off of their respective sizes. Through this graph it can be easily seen that the Modal based agent is easily the most efficient in completing the task of cleaning the environment and the simple randomized agent was the least efficient."
   ]
  },
  {
   "cell_type": "markdown",
   "metadata": {
    "id": "Uxu1djsV_sob"
   },
   "source": [
    "## Task 5: Robustness of the agent implementations [10 Points]\n",
    "\n",
    "Describe how **your agent implementations** will perform\n",
    "\n",
    "* if it is put into a rectangular room with unknown size,\n",
    "* if the cleaning area can have an iregular shape (e.g., a hallway connecting two rooms), or\n",
    "* if the room contains obstacles (i.e., squares that it cannot pass through and trigger the bumper sensors)."
   ]
  },
  {
   "cell_type": "code",
   "execution_count": 15,
   "metadata": {
    "id": "Hf9QCIYB_sob"
   },
   "outputs": [],
   "source": [
    "# Answer goes here"
   ]
  },
  {
   "cell_type": "markdown",
   "metadata": {},
   "source": [
    "##### \n",
    "- The agent implementation would still work effectivley in a rectangular room with an unknown size, as the size of the room is not taken as a paramter in the agent function, and the fact that it is squared is not used as a factor in the original environment. The only thing that is used as a necessary given, is the fact that the environment has four right angle corners, which a rectangle has as well.\n",
    "\n",
    "- The agent implementation would not be able to effectivley function if the room was an irregular shape, as the implementation relies on the fact that the environment will be able to access the top left corner of the environment from purely going up until a \"north\" bumper is hit, and then going left until a \"west\" bumper is hit, as well as using this corner as a starting point for snaking through the rest of the environment. Therefore, if the agent is in an environment where there is more than one top-left corner, such as a hallway connecting two rooms, then it would be for the agent to iterate over every space in the environment.\n",
    "\n",
    "- The agent implementation would not be able to effectivley function if the room contained obstacles either, as the obstacles to turn before hitting the wall of the room in some cases, causing the agent to effectivley miss portions of the room and possibly leave areas uncleaned."
   ]
  },
  {
   "cell_type": "markdown",
   "metadata": {
    "id": "QeRyAO9K_soc"
   },
   "source": [
    "## Graduate student advanced task: Obstacles [10 Points]\n",
    "\n",
    "__Undergraduate students:__ This is a bonus task you can attempt if you like [+5 Bonus Points].\n",
    "\n",
    "1. Change your simulation environment tor run experiments for the following problem: Add random obstacle squares that also trigger the bumper sensor. The agent does not know where the obstacles are. Observe how this changes the performance of the three implementations.\n",
    "\n",
    "2. Describe what would need to be done to perform better with obstacles. Add code if you can."
   ]
  },
  {
   "cell_type": "markdown",
   "metadata": {},
   "source": [
    "###\n",
    "1. The changes observed were that, for the the simple reflex agent and the modal based reflex agent, there were instances when cleaning the 10x10 and 100x100 where the environment simply never got cleaned. \n",
    "\n",
    "2. Assuming that the robot could reach every square in the environment, the primary thing that would need to be done is to have the agent keep track of the number of steps done during one row of the snaking process, and compare it to the next row. As soon as one row has a different length traveled before turning, if it is less than the previous then the agent will investigate what was previously percieved as wall on the current row to see if it is possible to travel past thenm on either side, and if the distance is more than the previous row then the same investigation will be done on the row prior. If there is determined to be an obstacle in the row then the agent will attempt to go around it and adjust the length of the row accordingly."
   ]
  },
  {
   "cell_type": "code",
   "execution_count": 16,
   "metadata": {
    "id": "N_piAjcU_soc"
   },
   "outputs": [],
   "source": [
    "# Your code and discussion goes here\n",
    "\n",
    "reached_corner = False \n",
    "last_move = \"north\"\n",
    "\n",
    "def obstacle_environment(agent, max_steps, size, verbose = True):\n",
    "    num_steps = 0\n",
    "    num_dirty = 0\n",
    "    agent_start_location = (0,0)\n",
    "    agent_location = (agent_start_location[0], agent_start_location[1])\n",
    "\n",
    "    #create the environment\n",
    "    grid = np.zeros((size,size))\n",
    "    for i in range(size):\n",
    "        for j in range(size):\n",
    "            randNum = np.random.random()\n",
    "            if randNum < 0.2:\n",
    "                grid[i,j] = 1\n",
    "                num_dirty += 1\n",
    "            if randNum > 0.8:\n",
    "                grid[i,j] = 2\n",
    "    if verbose == True:\n",
    "        print(grid)\n",
    "    \n",
    "    #make start point for agent\n",
    "    x_start = np.random.randint(0,size)\n",
    "    y_start = np.random.randint(0,size)\n",
    "    agent_start_location = (x_start,y_start)\n",
    "    agent_location = agent_start_location\n",
    "\n",
    "\n",
    "    for i in range(max_steps):\n",
    "\n",
    "        #send agent drity square information\n",
    "        if grid[agent_location[0], agent_location[1]] == 1:\n",
    "            dirty = True\n",
    "        else:\n",
    "            dirty = False\n",
    "        \n",
    "        #send agent bumpers information\n",
    "        bumpers = {\"north\" : False, \"south\" : False, \"west\" : False, \"east\" : False}\n",
    "        if verbose == True:\n",
    "            print(agent_location)\n",
    "        if agent_location[0] == 0:\n",
    "            bumpers[\"north\"] = True\n",
    "        if agent_location[0] == size-1:\n",
    "            bumpers[\"south\"] = True\n",
    "        if agent_location[1] == 0:\n",
    "            bumpers[\"west\"] = True\n",
    "        if agent_location[1] == size-1:\n",
    "            bumpers[\"east\"] = True\n",
    "\n",
    "        #send agent barrier information regarding bumpers \n",
    "        if bumpers[\"north\"] == False:\n",
    "            if grid[agent_location[0]-1, agent_location[1]] == 2:\n",
    "                bumpers[\"north\"] = True\n",
    "        if bumpers[\"south\"] == False:\n",
    "            if grid[agent_location[0]+1, agent_location[1]] == 2:\n",
    "                bumpers[\"south\"] = True\n",
    "        if bumpers[\"west\"] == False:\n",
    "            if grid[agent_location[0], agent_location[1]-1] == 2:\n",
    "                bumpers[\"west\"] = True\n",
    "        if bumpers[\"east\"] == False:\n",
    "            if grid[agent_location[0], agent_location[1]+1] == 2:\n",
    "                bumpers[\"east\"] = True\n",
    "\n",
    "        #call agent action\n",
    "        action = agent(bumpers, dirty)\n",
    "        if (verbose): print(\"step\", i , \"- action:\", action)\n",
    "\n",
    "        #making sure simple random doesn't break\n",
    "        if action == \"north\" and bumpers[\"north\"] == True:\n",
    "            action = \"none\"\n",
    "        if action == \"south\" and bumpers[\"south\"] == True:\n",
    "            action = \"none\"\n",
    "        if action == \"east\" and bumpers[\"east\"] == True:\n",
    "            action = \"none\"\n",
    "        if action == \"west\" and bumpers[\"west\"] == True:\n",
    "            action = \"none\"\n",
    "\n",
    "\n",
    "        #counting the steps\n",
    "        if (action == \"north\"):\n",
    "            agent_location = (agent_location[0]-1,agent_location[1])\n",
    "            num_steps += 1\n",
    "        if (action == \"east\"):\n",
    "            agent_location = (agent_location[0],agent_location[1]+1)\n",
    "            num_steps += 1\n",
    "        if (action == \"west\"):\n",
    "            agent_location = (agent_location[0],agent_location[1]-1)\n",
    "            num_steps += 1\n",
    "        if (action == \"south\"):\n",
    "            agent_location = (agent_location[0]+1,agent_location[1])\n",
    "            num_steps += 1\n",
    "\n",
    "        if (action == \"suck\"):\n",
    "            num_dirty = num_dirty - 1\n",
    "            num_steps += 1 \n",
    "            grid[agent_location[0], agent_location[1]] = 0\n",
    "\n",
    "        if num_dirty == 0:\n",
    "            break\n",
    "\n",
    "    if verbose == True:\n",
    "        print(grid)\n",
    "    return num_steps\n",
    "\n"
   ]
  },
  {
   "cell_type": "code",
   "execution_count": 17,
   "metadata": {},
   "outputs": [
    {
     "data": {
      "text/html": [
       "<div>\n",
       "<style scoped>\n",
       "    .dataframe tbody tr th:only-of-type {\n",
       "        vertical-align: middle;\n",
       "    }\n",
       "\n",
       "    .dataframe tbody tr th {\n",
       "        vertical-align: top;\n",
       "    }\n",
       "\n",
       "    .dataframe thead th {\n",
       "        text-align: right;\n",
       "    }\n",
       "</style>\n",
       "<table border=\"1\" class=\"dataframe\">\n",
       "  <thead>\n",
       "    <tr style=\"text-align: right;\">\n",
       "      <th></th>\n",
       "      <th>Size</th>\n",
       "      <th>Simple Randomized Agent</th>\n",
       "      <th>Simple Reflex Agent</th>\n",
       "      <th>Model Based Reflex Agent</th>\n",
       "    </tr>\n",
       "  </thead>\n",
       "  <tbody>\n",
       "    <tr>\n",
       "      <th>0</th>\n",
       "      <td>5x5</td>\n",
       "      <td>14.8</td>\n",
       "      <td>98.6</td>\n",
       "      <td>25004.8</td>\n",
       "    </tr>\n",
       "    <tr>\n",
       "      <th>1</th>\n",
       "      <td>10x10</td>\n",
       "      <td>75.6</td>\n",
       "      <td>200919.8</td>\n",
       "      <td>54509.0</td>\n",
       "    </tr>\n",
       "    <tr>\n",
       "      <th>2</th>\n",
       "      <td>100x100</td>\n",
       "      <td>8402.0</td>\n",
       "      <td>1000000.0</td>\n",
       "      <td>16055.2</td>\n",
       "    </tr>\n",
       "  </tbody>\n",
       "</table>\n",
       "</div>"
      ],
      "text/plain": [
       "      Size  Simple Randomized Agent  Simple Reflex Agent  \\\n",
       "0      5x5                     14.8                 98.6   \n",
       "1    10x10                     75.6             200919.8   \n",
       "2  100x100                   8402.0            1000000.0   \n",
       "\n",
       "   Model Based Reflex Agent  \n",
       "0                   25004.8  \n",
       "1                   54509.0  \n",
       "2                   16055.2  "
      ]
     },
     "execution_count": 17,
     "metadata": {},
     "output_type": "execute_result"
    }
   ],
   "source": [
    "# Simulating with new environment\n",
    "\n",
    "# making table\n",
    "df = pd.DataFrame({\n",
    "    \"Size\": [\"5x5\", \"10x10\", \"100x100\"],\n",
    "    \"Simple Randomized Agent\": np.zeros(3),\n",
    "    \"Simple Reflex Agent\": np.zeros(3),\n",
    "    \"Model Based Reflex Agent\": np.zeros(3)\n",
    "})\n",
    "\n",
    "# testing for each size\n",
    "#for one_size in all_size:\n",
    "for one_size in all_size:\n",
    "    simple_randomized_data = []\n",
    "    simple_reflex_data = []\n",
    "    model_based_reflex_data = []\n",
    "    \n",
    "    for i in range(5):\n",
    "        simple_randomized_data.append(obstacle_environment(simple_randomized_agent, max_steps = 10000000, size = one_size, verbose = False))\n",
    "        simple_reflex_data.append(obstacle_environment(simple_reflex_agent, max_steps = 1000000, size = one_size, verbose = False))\n",
    "\n",
    "        reached_corner = False \n",
    "        last_move = \"north\" \n",
    "        model_based_reflex_data.append(obstacle_environment(model_based_reflex_agent, max_steps = 100000, size = one_size, verbose = False))\n",
    "\n",
    "    # adding to table\n",
    "    df.loc[df[\"Size\"] == str(one_size)+\"x\"+str(one_size), \"Simple Randomized Agent\"] = np.mean(simple_randomized_data)\n",
    "    df.loc[df[\"Size\"] == str(one_size)+\"x\"+str(one_size), \"Simple Reflex Agent\"] = np.mean(simple_reflex_data)\n",
    "    df.loc[df[\"Size\"] == str(one_size)+\"x\"+str(one_size), \"Model Based Reflex Agent\"] = np.mean(model_based_reflex_data)\n",
    "\n",
    "df"
   ]
  },
  {
   "cell_type": "markdown",
   "metadata": {},
   "source": [
    "### Same model but returning number of spaces left dirty"
   ]
  },
  {
   "cell_type": "code",
   "execution_count": 18,
   "metadata": {},
   "outputs": [],
   "source": [
    "reached_corner = False \n",
    "last_move = \"north\"\n",
    "\n",
    "def obstacle_environment_dirty(agent, max_steps, size, verbose = True):\n",
    "    num_steps = 0\n",
    "    num_dirty = 0\n",
    "    agent_start_location = (0,0)\n",
    "    agent_location = (agent_start_location[0], agent_start_location[1])\n",
    "\n",
    "    #create the environment\n",
    "    grid = np.zeros((size,size))\n",
    "    for i in range(size):\n",
    "        for j in range(size):\n",
    "            randNum = np.random.random()\n",
    "            if randNum < 0.2:\n",
    "                grid[i,j] = 1\n",
    "                num_dirty += 1\n",
    "            if randNum > 0.8:\n",
    "                grid[i,j] = 2\n",
    "    if verbose == True:\n",
    "        print(grid)\n",
    "    \n",
    "    #make start point for agent\n",
    "    x_start = np.random.randint(0,size)\n",
    "    y_start = np.random.randint(0,size)\n",
    "    agent_start_location = (x_start,y_start)\n",
    "    agent_location = agent_start_location\n",
    "\n",
    "\n",
    "    for i in range(max_steps):\n",
    "\n",
    "        #send agent drity square information\n",
    "        if grid[agent_location[0], agent_location[1]] == 1:\n",
    "            dirty = True\n",
    "        else:\n",
    "            dirty = False\n",
    "        \n",
    "        #send agent bumpers information\n",
    "        bumpers = {\"north\" : False, \"south\" : False, \"west\" : False, \"east\" : False}\n",
    "        if verbose == True:\n",
    "            print(agent_location)\n",
    "        if agent_location[0] == 0:\n",
    "            bumpers[\"north\"] = True\n",
    "        if agent_location[0] == size-1:\n",
    "            bumpers[\"south\"] = True\n",
    "        if agent_location[1] == 0:\n",
    "            bumpers[\"west\"] = True\n",
    "        if agent_location[1] == size-1:\n",
    "            bumpers[\"east\"] = True\n",
    "\n",
    "        #send agent barrier information regarding bumpers \n",
    "        if bumpers[\"north\"] == False:\n",
    "            if grid[agent_location[0]-1, agent_location[1]] == 2:\n",
    "                bumpers[\"north\"] = True\n",
    "        if bumpers[\"south\"] == False:\n",
    "            if grid[agent_location[0]+1, agent_location[1]] == 2:\n",
    "                bumpers[\"south\"] = True\n",
    "        if bumpers[\"west\"] == False:\n",
    "            if grid[agent_location[0], agent_location[1]-1] == 2:\n",
    "                bumpers[\"west\"] = True\n",
    "        if bumpers[\"east\"] == False:\n",
    "            if grid[agent_location[0], agent_location[1]+1] == 2:\n",
    "                bumpers[\"east\"] = True\n",
    "\n",
    "        #call agent action\n",
    "        action = agent(bumpers, dirty)\n",
    "        if (verbose): print(\"step\", i , \"- action:\", action)\n",
    "\n",
    "        #making sure simple random doesn't break\n",
    "        if action == \"north\" and bumpers[\"north\"] == True:\n",
    "            action = \"none\"\n",
    "        if action == \"south\" and bumpers[\"south\"] == True:\n",
    "            action = \"none\"\n",
    "        if action == \"east\" and bumpers[\"east\"] == True:\n",
    "            action = \"none\"\n",
    "        if action == \"west\" and bumpers[\"west\"] == True:\n",
    "            action = \"none\"\n",
    "\n",
    "\n",
    "        #counting the steps\n",
    "        if (action == \"north\"):\n",
    "            agent_location = (agent_location[0]-1,agent_location[1])\n",
    "            num_steps += 1\n",
    "        if (action == \"east\"):\n",
    "            agent_location = (agent_location[0],agent_location[1]+1)\n",
    "            num_steps += 1\n",
    "        if (action == \"west\"):\n",
    "            agent_location = (agent_location[0],agent_location[1]-1)\n",
    "            num_steps += 1\n",
    "        if (action == \"south\"):\n",
    "            agent_location = (agent_location[0]+1,agent_location[1])\n",
    "            num_steps += 1\n",
    "\n",
    "        if (action == \"suck\"):\n",
    "            num_dirty = num_dirty - 1\n",
    "            num_steps += 1 \n",
    "            grid[agent_location[0], agent_location[1]] = 0\n",
    "\n",
    "        if num_dirty == 0:\n",
    "            break\n",
    "\n",
    "    if verbose == True:\n",
    "        print(grid)\n",
    "    return num_dirty"
   ]
  },
  {
   "cell_type": "code",
   "execution_count": 19,
   "metadata": {},
   "outputs": [
    {
     "data": {
      "text/html": [
       "<div>\n",
       "<style scoped>\n",
       "    .dataframe tbody tr th:only-of-type {\n",
       "        vertical-align: middle;\n",
       "    }\n",
       "\n",
       "    .dataframe tbody tr th {\n",
       "        vertical-align: top;\n",
       "    }\n",
       "\n",
       "    .dataframe thead th {\n",
       "        text-align: right;\n",
       "    }\n",
       "</style>\n",
       "<table border=\"1\" class=\"dataframe\">\n",
       "  <thead>\n",
       "    <tr style=\"text-align: right;\">\n",
       "      <th></th>\n",
       "      <th>Size</th>\n",
       "      <th>Simple Randomized Agent</th>\n",
       "      <th>Simple Reflex Agent</th>\n",
       "      <th>Model Based Reflex Agent</th>\n",
       "    </tr>\n",
       "  </thead>\n",
       "  <tbody>\n",
       "    <tr>\n",
       "      <th>0</th>\n",
       "      <td>5x5</td>\n",
       "      <td>0.0</td>\n",
       "      <td>0.0</td>\n",
       "      <td>2.0</td>\n",
       "    </tr>\n",
       "    <tr>\n",
       "      <th>1</th>\n",
       "      <td>10x10</td>\n",
       "      <td>0.0</td>\n",
       "      <td>0.0</td>\n",
       "      <td>16.0</td>\n",
       "    </tr>\n",
       "    <tr>\n",
       "      <th>2</th>\n",
       "      <td>100x100</td>\n",
       "      <td>0.0</td>\n",
       "      <td>6.0</td>\n",
       "      <td>1996.0</td>\n",
       "    </tr>\n",
       "  </tbody>\n",
       "</table>\n",
       "</div>"
      ],
      "text/plain": [
       "      Size  Simple Randomized Agent  Simple Reflex Agent  \\\n",
       "0      5x5                      0.0                  0.0   \n",
       "1    10x10                      0.0                  0.0   \n",
       "2  100x100                      0.0                  6.0   \n",
       "\n",
       "   Model Based Reflex Agent  \n",
       "0                       2.0  \n",
       "1                      16.0  \n",
       "2                    1996.0  "
      ]
     },
     "execution_count": 19,
     "metadata": {},
     "output_type": "execute_result"
    }
   ],
   "source": [
    "# Simulating with new environment while returning how many spots were left dirty\n",
    "\n",
    "# making table\n",
    "df = pd.DataFrame({\n",
    "    \"Size\": [\"5x5\", \"10x10\", \"100x100\"],\n",
    "    \"Simple Randomized Agent\": np.zeros(3),\n",
    "    \"Simple Reflex Agent\": np.zeros(3),\n",
    "    \"Model Based Reflex Agent\": np.zeros(3)\n",
    "})\n",
    "\n",
    "# testing for each size\n",
    "#for one_size in all_size:\n",
    "for one_size in all_size:\n",
    "    simple_randomized_data = []\n",
    "    simple_reflex_data = []\n",
    "    model_based_reflex_data = []\n",
    "    \n",
    "    for i in range(1):\n",
    "        simple_randomized_data.append(obstacle_environment_dirty(simple_randomized_agent, max_steps = 10000000, size = one_size, verbose = False))\n",
    "        simple_reflex_data.append(obstacle_environment_dirty(simple_reflex_agent, max_steps = 1000000, size = one_size, verbose = False))\n",
    "\n",
    "        reached_corner = False \n",
    "        last_move = \"north\" \n",
    "        model_based_reflex_data.append(obstacle_environment_dirty(model_based_reflex_agent, max_steps = 100000, size = one_size, verbose = False))\n",
    "\n",
    "    # adding to table\n",
    "    df.loc[df[\"Size\"] == str(one_size)+\"x\"+str(one_size), \"Simple Randomized Agent\"] = np.mean(simple_randomized_data)\n",
    "    df.loc[df[\"Size\"] == str(one_size)+\"x\"+str(one_size), \"Simple Reflex Agent\"] = np.mean(simple_reflex_data)\n",
    "    df.loc[df[\"Size\"] == str(one_size)+\"x\"+str(one_size), \"Model Based Reflex Agent\"] = np.mean(model_based_reflex_data)\n",
    "\n",
    "df"
   ]
  },
  {
   "cell_type": "markdown",
   "metadata": {
    "id": "eugty1MF_soc"
   },
   "source": [
    "## More advanced implementation tasks\n",
    "\n",
    "* __Agent for and environment with obstacles:__ Implement an agent for an environment where the agent does not know how large the environment is (we assume it is rectangular), where it starts or where the obstacles are. An option would be to always move to the closest unchecked/uncleaned square (note that this is actualy depth-first search).\n",
    "\n",
    "* __Utility-based agent:__ Change the environment for a $5 \\times 5$ room, so each square has a fixed probability of getting dirty again. For the implementation, we give the environment a 2-dimensional array of probabilities. The utility of a state is defined as the number of currebntly clean squares in the room. Implement a utility-based agent that maximizes the expected utility over one full charge which lasts for 100000 time steps. To do this, the agent needs to learn the probabilities with which different squares get dirty again. This is very tricky!"
   ]
  },
  {
   "cell_type": "code",
   "execution_count": 20,
   "metadata": {
    "id": "qjjIU8Dj_sod"
   },
   "outputs": [],
   "source": [
    "# Your ideas/code"
   ]
  }
 ],
 "metadata": {
  "colab": {
   "provenance": []
  },
  "kernelspec": {
   "display_name": "Python 3 (ipykernel)",
   "language": "python",
   "name": "python3"
  },
  "language_info": {
   "codemirror_mode": {
    "name": "ipython",
    "version": 3
   },
   "file_extension": ".py",
   "mimetype": "text/x-python",
   "name": "python",
   "nbconvert_exporter": "python",
   "pygments_lexer": "ipython3",
   "version": "3.9.12"
  },
  "toc-autonumbering": false
 },
 "nbformat": 4,
 "nbformat_minor": 1
}
